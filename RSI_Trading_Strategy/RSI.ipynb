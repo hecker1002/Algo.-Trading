{
 "cells": [
  {
   "cell_type": "code",
   "execution_count": 1,
   "metadata": {},
   "outputs": [],
   "source": [
    "import numpy as np \n",
    "import pandas as pd \n",
    "import matplotlib.pyplot as plt \n",
    "import math \n",
    "from sympy import * \n"
   ]
  },
  {
   "cell_type": "code",
   "execution_count": 40,
   "metadata": {},
   "outputs": [],
   "source": [
    "from tensorflow import keras "
   ]
  },
  {
   "cell_type": "code",
   "execution_count": 2,
   "metadata": {},
   "outputs": [
    {
     "data": {
      "text/plain": [
       "\"' \\nRSI - (Relative Strength Index) - Technical Indicator in Trading used to find if the trend observed in previous days \\nwill continue or NOT . \\n\\n\\n[RSI = 100 - 100/1+RS ] where RS (relative Strength_ ) = Avg Gain/ Avg Loss over past some days (g/L calcualted wrt prev Days CLosing Price )\\n\\nif ( 0 < RSI < 30 ) , oversold and price was decreasing till NOW  and now increase so buy it (LONG POSITIOn)\\nand vice versa for ( 70 < RSI < 100 ) -> SHORT (sell it)\\n\\n\""
      ]
     },
     "execution_count": 2,
     "metadata": {},
     "output_type": "execute_result"
    }
   ],
   "source": [
    "'''' \n",
    "RSI - (Relative Strength Index) - Technical Indicator in Trading used to find if the trend observed in previous days \n",
    "will continue or NOT . \n",
    "\n",
    "\n",
    "[RSI = 100 - 100/1+RS ] where RS (relative Strength_ ) = Avg Gain/ Avg Loss over past some days (g/L calcualted wrt prev Days CLosing Price )\n",
    "\n",
    "if ( 0 < RSI < 30 ) , oversold and price was decreasing till NOW  and now increase so buy it (LONG POSITIOn)\n",
    "and vice versa for ( 70 < RSI < 100 ) -> SHORT (sell it)\n",
    "\n",
    "'''"
   ]
  },
  {
   "cell_type": "code",
   "execution_count": 3,
   "metadata": {},
   "outputs": [
    {
     "name": "stderr",
     "output_type": "stream",
     "text": [
      "[*********************100%%**********************]  1 of 1 completed\n"
     ]
    }
   ],
   "source": [
    "# COde the RSI \n",
    "\n",
    "import yfinance as yf  # for historical stock martket data \n",
    "\n",
    "data = yf.download('SPY')"
   ]
  },
  {
   "cell_type": "code",
   "execution_count": 4,
   "metadata": {},
   "outputs": [
    {
     "data": {
      "text/html": [
       "<div>\n",
       "<style scoped>\n",
       "    .dataframe tbody tr th:only-of-type {\n",
       "        vertical-align: middle;\n",
       "    }\n",
       "\n",
       "    .dataframe tbody tr th {\n",
       "        vertical-align: top;\n",
       "    }\n",
       "\n",
       "    .dataframe thead th {\n",
       "        text-align: right;\n",
       "    }\n",
       "</style>\n",
       "<table border=\"1\" class=\"dataframe\">\n",
       "  <thead>\n",
       "    <tr style=\"text-align: right;\">\n",
       "      <th></th>\n",
       "      <th>Open</th>\n",
       "      <th>High</th>\n",
       "      <th>Low</th>\n",
       "      <th>Close</th>\n",
       "      <th>Adj Close</th>\n",
       "      <th>Volume</th>\n",
       "    </tr>\n",
       "    <tr>\n",
       "      <th>Date</th>\n",
       "      <th></th>\n",
       "      <th></th>\n",
       "      <th></th>\n",
       "      <th></th>\n",
       "      <th></th>\n",
       "      <th></th>\n",
       "    </tr>\n",
       "  </thead>\n",
       "  <tbody>\n",
       "    <tr>\n",
       "      <th>1993-01-29</th>\n",
       "      <td>43.96875</td>\n",
       "      <td>43.96875</td>\n",
       "      <td>43.75000</td>\n",
       "      <td>43.93750</td>\n",
       "      <td>24.684090</td>\n",
       "      <td>1003200</td>\n",
       "    </tr>\n",
       "    <tr>\n",
       "      <th>1993-02-01</th>\n",
       "      <td>43.96875</td>\n",
       "      <td>44.25000</td>\n",
       "      <td>43.96875</td>\n",
       "      <td>44.25000</td>\n",
       "      <td>24.859673</td>\n",
       "      <td>480500</td>\n",
       "    </tr>\n",
       "    <tr>\n",
       "      <th>1993-02-02</th>\n",
       "      <td>44.21875</td>\n",
       "      <td>44.37500</td>\n",
       "      <td>44.12500</td>\n",
       "      <td>44.34375</td>\n",
       "      <td>24.912336</td>\n",
       "      <td>201300</td>\n",
       "    </tr>\n",
       "    <tr>\n",
       "      <th>1993-02-03</th>\n",
       "      <td>44.40625</td>\n",
       "      <td>44.84375</td>\n",
       "      <td>44.37500</td>\n",
       "      <td>44.81250</td>\n",
       "      <td>25.175680</td>\n",
       "      <td>529400</td>\n",
       "    </tr>\n",
       "    <tr>\n",
       "      <th>1993-02-04</th>\n",
       "      <td>44.96875</td>\n",
       "      <td>45.09375</td>\n",
       "      <td>44.46875</td>\n",
       "      <td>45.00000</td>\n",
       "      <td>25.281029</td>\n",
       "      <td>531500</td>\n",
       "    </tr>\n",
       "  </tbody>\n",
       "</table>\n",
       "</div>"
      ],
      "text/plain": [
       "                Open      High       Low     Close  Adj Close   Volume\n",
       "Date                                                                  \n",
       "1993-01-29  43.96875  43.96875  43.75000  43.93750  24.684090  1003200\n",
       "1993-02-01  43.96875  44.25000  43.96875  44.25000  24.859673   480500\n",
       "1993-02-02  44.21875  44.37500  44.12500  44.34375  24.912336   201300\n",
       "1993-02-03  44.40625  44.84375  44.37500  44.81250  25.175680   529400\n",
       "1993-02-04  44.96875  45.09375  44.46875  45.00000  25.281029   531500"
      ]
     },
     "execution_count": 4,
     "metadata": {},
     "output_type": "execute_result"
    }
   ],
   "source": [
    "data.head()"
   ]
  },
  {
   "cell_type": "code",
   "execution_count": 5,
   "metadata": {},
   "outputs": [],
   "source": [
    "import pandas_ta as ta "
   ]
  },
  {
   "cell_type": "code",
   "execution_count": 6,
   "metadata": {},
   "outputs": [
    {
     "data": {
      "text/plain": [
       "\"  \\n\\nCl;osing Price (CLose) - The price at which the last stock is traded in the day . \\n\\nAdjusted CLosing Price  - It is the last price at which a stock , dividends and all other type of assets are traded in the same day. \\n\\nAdj Closing Price - keep s happenng after close \\nand is more clear indicator of stock market's  health . \\n\\n\""
      ]
     },
     "execution_count": 6,
     "metadata": {},
     "output_type": "execute_result"
    }
   ],
   "source": [
    "'''  \n",
    "\n",
    "Cl;osing Price (CLose) - The price at which the last stock is traded in the day . \n",
    "\n",
    "Adjusted CLosing Price  - It is the last price at which a stock , dividends and all other type of assets are traded in the same day. \n",
    "\n",
    "Adj Closing Price - keep s happenng after close \n",
    "and is more clear indicator of stock market's  health . \n",
    "\n",
    "'''"
   ]
  },
  {
   "cell_type": "code",
   "execution_count": 7,
   "metadata": {},
   "outputs": [],
   "source": [
    "# import pandas_ta as ta \n",
    "\n",
    "# data['rsi'] = ta.rsi(data['Adj Close'] , 2 )"
   ]
  },
  {
   "cell_type": "code",
   "execution_count": 8,
   "metadata": {},
   "outputs": [
    {
     "data": {
      "text/plain": [
       "' # function to calculate RSI Prices (for each day ) \\n\\n# df.diff() -> return difference b/w all the rows and its just previous row (if period==1 )\\n# .ewm(com ) -> finds exponential moving average ( weighted sum of the data by giving more weight to more recent obs. abnd less weight toolder observ.)\\n\\n\\n'"
      ]
     },
     "execution_count": 8,
     "metadata": {},
     "output_type": "execute_result"
    }
   ],
   "source": [
    "''' # function to calculate RSI Prices (for each day ) \n",
    "\n",
    "# df.diff() -> return difference b/w all the rows and its just previous row (if period==1 )\n",
    "# .ewm(com ) -> finds exponential moving average ( weighted sum of the data by giving more weight to more recent obs. abnd less weight toolder observ.)\n",
    "\n",
    "\n",
    "'''"
   ]
  },
  {
   "cell_type": "code",
   "execution_count": 9,
   "metadata": {},
   "outputs": [],
   "source": [
    "\n",
    "# work for every row (dat) of today's close price\n",
    "\n",
    "def calculate_rsi(prices , period) :\n",
    "\n",
    "    momentum = prices.diff() # shows the change in price over a day wrt prev day's adj close price \n",
    "    gain = abs (momentum.where (momentum  > 0 , 0 ) )\n",
    "    loss = abs ( momentum.where(momentum < 0 , 0 ) )\n",
    "    \n",
    "    avg_gain = gain.ewm(com=period - 1, min_periods=period).mean()  # exponential movbving AVERAGE \n",
    "    avg_loss = loss.ewm(com=period - 1, min_periods=period).mean() \n",
    "\n",
    "    rs = avg_gain/ avg_loss\n",
    "\n",
    "    rsi = 100 - (100 / (1 + rs ))\n",
    "\n",
    "    return rsi "
   ]
  },
  {
   "cell_type": "code",
   "execution_count": 10,
   "metadata": {},
   "outputs": [],
   "source": [
    "def generate_signals(rsi_list) :\n",
    "\n",
    "    signals = [] \n",
    "\n",
    "    for rsi in rsi_list :\n",
    "\n",
    "        if rsi < 30 :\n",
    "            signals.append('BUY') \n",
    "        elif rsi > 70 :\n",
    "            signals.append('SELL')\n",
    "        else :\n",
    "            signals.append('HOLD')\n",
    "        \n",
    "    return signals "
   ]
  },
  {
   "cell_type": "code",
   "execution_count": 11,
   "metadata": {},
   "outputs": [],
   "source": [
    "rsi_list = calculate_rsi(data['Adj Close'] , 14 )"
   ]
  },
  {
   "cell_type": "code",
   "execution_count": 12,
   "metadata": {},
   "outputs": [],
   "source": [
    "data['RSI'] = rsi_list"
   ]
  },
  {
   "cell_type": "code",
   "execution_count": 13,
   "metadata": {},
   "outputs": [],
   "source": [
    "data['Signals'] = generate_signals(rsi_list)"
   ]
  },
  {
   "cell_type": "code",
   "execution_count": 14,
   "metadata": {},
   "outputs": [
    {
     "data": {
      "text/plain": [
       "Signals\n",
       "HOLD    7133\n",
       "SELL     662\n",
       "BUY      112\n",
       "Name: count, dtype: int64"
      ]
     },
     "execution_count": 14,
     "metadata": {},
     "output_type": "execute_result"
    }
   ],
   "source": [
    "data['Signals'].value_counts()"
   ]
  },
  {
   "cell_type": "code",
   "execution_count": 15,
   "metadata": {},
   "outputs": [
    {
     "name": "stdout",
     "output_type": "stream",
     "text": [
      "1.00000000499950  =  1.00000000499950\n"
     ]
    }
   ],
   "source": [
    "# Newton Raphson's Method of Apptoximation \n",
    "# New approx ->   x(n+1)  = x(n) - f(xn)/f'(xn) \n",
    "\n",
    "\n",
    "\n",
    "# for complex functions root -> slike sin(x_ + cos3(x) )\n",
    "def Newton_Raphon_Approx( eqn,  initial_guess ) :\n",
    "    x_n = initial_guess \n",
    "\n",
    "    x = symbols('x')\n",
    "    eqn_d_x = Derivative( eqn , x).doit() # to simplify the expression  \n",
    "\n",
    "    x_n_1 = x_n - eqn.subs(x , x_n)/eqn_d_x.subs(x , x_n) # eqn.subs - sunstitutes  x in x_n\n",
    "\n",
    "    while abs(x_n_1 - x_n) >= 0.0000004 : \n",
    "        temp = x_n_1 \n",
    "        x_n_1 = x_n - eqn.subs(x , x_n)/eqn_d_x.subs(x , x_n)\n",
    "        x_n =temp \n",
    "\n",
    "    return x_n_1 \n",
    "\n",
    "\n",
    "\n",
    "x = symbols('x')\n",
    "\n",
    "# USe Sympy to write compelx expression / eqn \n",
    "res = Newton_Raphon_Approx( x**2 -1  ,  1.0001)\n",
    "\n",
    "\n",
    "print( res , \" = \" , res.evalf())"
   ]
  },
  {
   "cell_type": "code",
   "execution_count": 66,
   "metadata": {},
   "outputs": [],
   "source": [
    "# Prediction from Univariate Sequential Data ( only feature is Time )\n",
    "\n",
    "seq = [ 10 , 30 , 50 , 70 , 90 , 110 , 130 ]\n",
    "\n",
    "seq1  = np.array(seq)\n",
    "\n",
    "seq = (seq - seq1.mean() )/ seq1.std()\n",
    "\n",
    "# Decide time step( at a time , len of inp se to LSTM e,g no of words in sentence )\n",
    "t_steps = 3 \n",
    "n_features = 1  # (Univariate , endogenous , static )\n",
    "\n",
    "# MAke training data from given raw (unprocessed) seq \n",
    "\n",
    "def inp_seq( seq , t_steps ):\n",
    "    X= [] \n",
    "    Y= []\n",
    "    for i in range( len(seq) ):\n",
    "        end_i = i + t_steps \n",
    "\n",
    "        if( end_i > len(seq)-1) :\n",
    "            break\n",
    "        # take from i to t_steps as X and just after as target var \n",
    "        x, y = seq[i:end_i] , seq[end_i]\n",
    "        X.append(x)\n",
    "        Y.append(y)\n",
    "    return np.array(X) , np.array(Y) \n",
    "\n",
    "X, y = inp_seq ( seq , t_steps )\n",
    "\n",
    "# actual INP to LSTM or RNN or GRU are ( no of samples total ( no of rows ),t_steps (no. of cols ), inp_features )\n",
    "X = X.reshape ( ( X.shape[0] , X.shape[1] ,1  ) ) \n",
    "\n",
    "\n",
    "# Now ,a t 1 instant , we pass 1 seq of info .( ie 1 instance of size =3 ) [10 , 20 , 30] and trian the lSTM on it with y = 40 \n",
    "\n"
   ]
  },
  {
   "cell_type": "code",
   "execution_count": 68,
   "metadata": {},
   "outputs": [],
   "source": [
    "# Harness the Model \n",
    "# units in LSTM - dim of output neurons / dim  of ht (hidden state) /cell stae*ct - LTM )\n",
    "\n",
    "ts_model = keras.models.Sequential([\n",
    "\n",
    "   # 1 hidden layer of LSTM   with out dim of ht as = 50 units \n",
    "   # USe relu actiavtion snce tanh already sued in LSTM to detemine LTM and STM and  input_shape== (t_steps , no of features )\n",
    "   keras.layers.LSTM( 50 , activation = \"relu\" ,  input_shape= (t_steps , n_features ) ) ,\n",
    "\n",
    "   # FOr final prdictin and processing , use a FUlly CONECTED LAYER ( FCN )\n",
    "   keras.layers.Dense(1 ) # regression , ONLY 1 output neuron ( with no act ivation )\n",
    "\n",
    "])\n",
    "\n",
    "ts_model.compile (loss = \"mse\" , optimizer = \"sgd\" , metrics = \"mse\")\n"
   ]
  },
  {
   "cell_type": "code",
   "execution_count": 69,
   "metadata": {},
   "outputs": [
    {
     "name": "stdout",
     "output_type": "stream",
     "text": [
      "Epoch 1/100\n",
      "1/1 [==============================] - 1s 1s/step - loss: 0.8100 - mse: 0.8100\n",
      "Epoch 2/100\n",
      "1/1 [==============================] - 0s 7ms/step - loss: 0.7851 - mse: 0.7851\n",
      "Epoch 3/100\n",
      "1/1 [==============================] - 0s 8ms/step - loss: 0.7607 - mse: 0.7607\n",
      "Epoch 4/100\n",
      "1/1 [==============================] - 0s 8ms/step - loss: 0.7374 - mse: 0.7374\n",
      "Epoch 5/100\n",
      "1/1 [==============================] - 0s 9ms/step - loss: 0.7150 - mse: 0.7150\n",
      "Epoch 6/100\n",
      "1/1 [==============================] - 0s 7ms/step - loss: 0.6936 - mse: 0.6936\n",
      "Epoch 7/100\n",
      "1/1 [==============================] - 0s 12ms/step - loss: 0.6732 - mse: 0.6732\n",
      "Epoch 8/100\n",
      "1/1 [==============================] - 0s 20ms/step - loss: 0.6537 - mse: 0.6537\n",
      "Epoch 9/100\n",
      "1/1 [==============================] - 0s 9ms/step - loss: 0.6351 - mse: 0.6351\n",
      "Epoch 10/100\n",
      "1/1 [==============================] - 0s 9ms/step - loss: 0.6173 - mse: 0.6173\n",
      "Epoch 11/100\n",
      "1/1 [==============================] - 0s 8ms/step - loss: 0.6003 - mse: 0.6003\n",
      "Epoch 12/100\n",
      "1/1 [==============================] - 0s 8ms/step - loss: 0.5840 - mse: 0.5840\n",
      "Epoch 13/100\n",
      "1/1 [==============================] - 0s 7ms/step - loss: 0.5684 - mse: 0.5684\n",
      "Epoch 14/100\n",
      "1/1 [==============================] - 0s 7ms/step - loss: 0.5535 - mse: 0.5535\n",
      "Epoch 15/100\n",
      "1/1 [==============================] - 0s 8ms/step - loss: 0.5393 - mse: 0.5393\n",
      "Epoch 16/100\n",
      "1/1 [==============================] - 0s 7ms/step - loss: 0.5257 - mse: 0.5257\n",
      "Epoch 17/100\n",
      "1/1 [==============================] - 0s 8ms/step - loss: 0.5127 - mse: 0.5127\n",
      "Epoch 18/100\n",
      "1/1 [==============================] - 0s 8ms/step - loss: 0.5004 - mse: 0.5004\n",
      "Epoch 19/100\n",
      "1/1 [==============================] - 0s 8ms/step - loss: 0.4886 - mse: 0.4886\n",
      "Epoch 20/100\n",
      "1/1 [==============================] - 0s 8ms/step - loss: 0.4773 - mse: 0.4773\n",
      "Epoch 21/100\n",
      "1/1 [==============================] - 0s 7ms/step - loss: 0.4665 - mse: 0.4665\n",
      "Epoch 22/100\n",
      "1/1 [==============================] - 0s 10ms/step - loss: 0.4562 - mse: 0.4562\n",
      "Epoch 23/100\n",
      "1/1 [==============================] - 0s 8ms/step - loss: 0.4463 - mse: 0.4463\n",
      "Epoch 24/100\n",
      "1/1 [==============================] - 0s 8ms/step - loss: 0.4369 - mse: 0.4369\n",
      "Epoch 25/100\n",
      "1/1 [==============================] - 0s 6ms/step - loss: 0.4279 - mse: 0.4279\n",
      "Epoch 26/100\n",
      "1/1 [==============================] - 0s 7ms/step - loss: 0.4192 - mse: 0.4192\n",
      "Epoch 27/100\n",
      "1/1 [==============================] - 0s 6ms/step - loss: 0.4109 - mse: 0.4109\n",
      "Epoch 28/100\n",
      "1/1 [==============================] - 0s 8ms/step - loss: 0.4030 - mse: 0.4030\n",
      "Epoch 29/100\n",
      "1/1 [==============================] - 0s 7ms/step - loss: 0.3953 - mse: 0.3953\n",
      "Epoch 30/100\n",
      "1/1 [==============================] - 0s 7ms/step - loss: 0.3880 - mse: 0.3880\n",
      "Epoch 31/100\n",
      "1/1 [==============================] - 0s 7ms/step - loss: 0.3810 - mse: 0.3810\n",
      "Epoch 32/100\n",
      "1/1 [==============================] - 0s 8ms/step - loss: 0.3742 - mse: 0.3742\n",
      "Epoch 33/100\n",
      "1/1 [==============================] - 0s 7ms/step - loss: 0.3677 - mse: 0.3677\n",
      "Epoch 34/100\n",
      "1/1 [==============================] - 0s 8ms/step - loss: 0.3614 - mse: 0.3614\n",
      "Epoch 35/100\n",
      "1/1 [==============================] - 0s 8ms/step - loss: 0.3554 - mse: 0.3554\n",
      "Epoch 36/100\n",
      "1/1 [==============================] - 0s 7ms/step - loss: 0.3496 - mse: 0.3496\n",
      "Epoch 37/100\n",
      "1/1 [==============================] - 0s 7ms/step - loss: 0.3440 - mse: 0.3440\n",
      "Epoch 38/100\n",
      "1/1 [==============================] - 0s 8ms/step - loss: 0.3387 - mse: 0.3387\n",
      "Epoch 39/100\n",
      "1/1 [==============================] - 0s 10ms/step - loss: 0.3335 - mse: 0.3335\n",
      "Epoch 40/100\n",
      "1/1 [==============================] - 0s 8ms/step - loss: 0.3285 - mse: 0.3285\n",
      "Epoch 41/100\n",
      "1/1 [==============================] - 0s 9ms/step - loss: 0.3237 - mse: 0.3237\n",
      "Epoch 42/100\n",
      "1/1 [==============================] - 0s 7ms/step - loss: 0.3191 - mse: 0.3191\n",
      "Epoch 43/100\n",
      "1/1 [==============================] - 0s 9ms/step - loss: 0.3146 - mse: 0.3146\n",
      "Epoch 44/100\n",
      "1/1 [==============================] - 0s 8ms/step - loss: 0.3103 - mse: 0.3103\n",
      "Epoch 45/100\n",
      "1/1 [==============================] - 0s 8ms/step - loss: 0.3062 - mse: 0.3062\n",
      "Epoch 46/100\n",
      "1/1 [==============================] - 0s 7ms/step - loss: 0.3022 - mse: 0.3022\n",
      "Epoch 47/100\n",
      "1/1 [==============================] - 0s 8ms/step - loss: 0.2983 - mse: 0.2983\n",
      "Epoch 48/100\n",
      "1/1 [==============================] - 0s 8ms/step - loss: 0.2946 - mse: 0.2946\n",
      "Epoch 49/100\n",
      "1/1 [==============================] - 0s 7ms/step - loss: 0.2909 - mse: 0.2909\n",
      "Epoch 50/100\n",
      "1/1 [==============================] - 0s 8ms/step - loss: 0.2874 - mse: 0.2874\n",
      "Epoch 51/100\n",
      "1/1 [==============================] - 0s 8ms/step - loss: 0.2840 - mse: 0.2840\n",
      "Epoch 52/100\n",
      "1/1 [==============================] - 0s 8ms/step - loss: 0.2807 - mse: 0.2807\n",
      "Epoch 53/100\n",
      "1/1 [==============================] - 0s 8ms/step - loss: 0.2775 - mse: 0.2775\n",
      "Epoch 54/100\n",
      "1/1 [==============================] - 0s 8ms/step - loss: 0.2744 - mse: 0.2744\n",
      "Epoch 55/100\n",
      "1/1 [==============================] - 0s 8ms/step - loss: 0.2713 - mse: 0.2713\n",
      "Epoch 56/100\n",
      "1/1 [==============================] - 0s 8ms/step - loss: 0.2684 - mse: 0.2684\n",
      "Epoch 57/100\n",
      "1/1 [==============================] - 0s 7ms/step - loss: 0.2656 - mse: 0.2656\n",
      "Epoch 58/100\n",
      "1/1 [==============================] - 0s 8ms/step - loss: 0.2628 - mse: 0.2628\n",
      "Epoch 59/100\n",
      "1/1 [==============================] - 0s 8ms/step - loss: 0.2602 - mse: 0.2602\n",
      "Epoch 60/100\n",
      "1/1 [==============================] - 0s 8ms/step - loss: 0.2576 - mse: 0.2576\n",
      "Epoch 61/100\n",
      "1/1 [==============================] - 0s 8ms/step - loss: 0.2551 - mse: 0.2551\n",
      "Epoch 62/100\n",
      "1/1 [==============================] - 0s 7ms/step - loss: 0.2526 - mse: 0.2526\n",
      "Epoch 63/100\n",
      "1/1 [==============================] - 0s 9ms/step - loss: 0.2502 - mse: 0.2502\n",
      "Epoch 64/100\n",
      "1/1 [==============================] - 0s 8ms/step - loss: 0.2479 - mse: 0.2479\n",
      "Epoch 65/100\n",
      "1/1 [==============================] - 0s 7ms/step - loss: 0.2457 - mse: 0.2457\n",
      "Epoch 66/100\n",
      "1/1 [==============================] - 0s 7ms/step - loss: 0.2435 - mse: 0.2435\n",
      "Epoch 67/100\n",
      "1/1 [==============================] - 0s 8ms/step - loss: 0.2414 - mse: 0.2414\n",
      "Epoch 68/100\n",
      "1/1 [==============================] - 0s 9ms/step - loss: 0.2393 - mse: 0.2393\n",
      "Epoch 69/100\n",
      "1/1 [==============================] - 0s 11ms/step - loss: 0.2372 - mse: 0.2372\n",
      "Epoch 70/100\n",
      "1/1 [==============================] - 0s 7ms/step - loss: 0.2353 - mse: 0.2353\n",
      "Epoch 71/100\n",
      "1/1 [==============================] - 0s 10ms/step - loss: 0.2333 - mse: 0.2333\n",
      "Epoch 72/100\n",
      "1/1 [==============================] - 0s 9ms/step - loss: 0.2314 - mse: 0.2314\n",
      "Epoch 73/100\n",
      "1/1 [==============================] - 0s 7ms/step - loss: 0.2295 - mse: 0.2295\n",
      "Epoch 74/100\n",
      "1/1 [==============================] - 0s 8ms/step - loss: 0.2277 - mse: 0.2277\n",
      "Epoch 75/100\n",
      "1/1 [==============================] - 0s 8ms/step - loss: 0.2259 - mse: 0.2259\n",
      "Epoch 76/100\n",
      "1/1 [==============================] - 0s 8ms/step - loss: 0.2241 - mse: 0.2241\n",
      "Epoch 77/100\n",
      "1/1 [==============================] - 0s 7ms/step - loss: 0.2224 - mse: 0.2224\n",
      "Epoch 78/100\n",
      "1/1 [==============================] - 0s 7ms/step - loss: 0.2208 - mse: 0.2208\n",
      "Epoch 79/100\n",
      "1/1 [==============================] - 0s 8ms/step - loss: 0.2191 - mse: 0.2191\n",
      "Epoch 80/100\n",
      "1/1 [==============================] - 0s 7ms/step - loss: 0.2175 - mse: 0.2175\n",
      "Epoch 81/100\n",
      "1/1 [==============================] - 0s 8ms/step - loss: 0.2160 - mse: 0.2160\n",
      "Epoch 82/100\n",
      "1/1 [==============================] - 0s 8ms/step - loss: 0.2144 - mse: 0.2144\n",
      "Epoch 83/100\n",
      "1/1 [==============================] - 0s 7ms/step - loss: 0.2128 - mse: 0.2128\n",
      "Epoch 84/100\n",
      "1/1 [==============================] - 0s 7ms/step - loss: 0.2113 - mse: 0.2113\n",
      "Epoch 85/100\n",
      "1/1 [==============================] - 0s 7ms/step - loss: 0.2098 - mse: 0.2098\n",
      "Epoch 86/100\n",
      "1/1 [==============================] - 0s 8ms/step - loss: 0.2083 - mse: 0.2083\n",
      "Epoch 87/100\n",
      "1/1 [==============================] - 0s 8ms/step - loss: 0.2069 - mse: 0.2069\n",
      "Epoch 88/100\n",
      "1/1 [==============================] - 0s 7ms/step - loss: 0.2054 - mse: 0.2054\n",
      "Epoch 89/100\n",
      "1/1 [==============================] - 0s 8ms/step - loss: 0.2040 - mse: 0.2040\n",
      "Epoch 90/100\n",
      "1/1 [==============================] - 0s 6ms/step - loss: 0.2026 - mse: 0.2026\n",
      "Epoch 91/100\n",
      "1/1 [==============================] - 0s 8ms/step - loss: 0.2013 - mse: 0.2013\n",
      "Epoch 92/100\n",
      "1/1 [==============================] - 0s 9ms/step - loss: 0.1999 - mse: 0.1999\n",
      "Epoch 93/100\n",
      "1/1 [==============================] - 0s 8ms/step - loss: 0.1986 - mse: 0.1986\n",
      "Epoch 94/100\n",
      "1/1 [==============================] - 0s 7ms/step - loss: 0.1973 - mse: 0.1973\n",
      "Epoch 95/100\n",
      "1/1 [==============================] - 0s 8ms/step - loss: 0.1960 - mse: 0.1960\n",
      "Epoch 96/100\n",
      "1/1 [==============================] - 0s 7ms/step - loss: 0.1947 - mse: 0.1947\n",
      "Epoch 97/100\n",
      "1/1 [==============================] - 0s 18ms/step - loss: 0.1935 - mse: 0.1935\n",
      "Epoch 98/100\n",
      "1/1 [==============================] - 0s 12ms/step - loss: 0.1922 - mse: 0.1922\n",
      "Epoch 99/100\n",
      "1/1 [==============================] - 0s 10ms/step - loss: 0.1910 - mse: 0.1910\n",
      "Epoch 100/100\n",
      "1/1 [==============================] - 0s 7ms/step - loss: 0.1898 - mse: 0.1898\n"
     ]
    }
   ],
   "source": [
    "# keep epichs higher wile trianing the LSTM \n",
    "history = ts_model.fit( X , y , epochs = 100) \n",
    "\n",
    "# sgd is becoming non differntible (part_dev(Loss) / part_dev(w) == 0)"
   ]
  },
  {
   "cell_type": "code",
   "execution_count": 70,
   "metadata": {},
   "outputs": [
    {
     "data": {
      "image/png": "[encoded data removed]",
      "text/plain": [
       "<Figure size 640x480 with 1 Axes>"
      ]
     },
     "metadata": {},
     "output_type": "display_data"
    }
   ],
   "source": [
    "pd.DataFrame( history.history).plot()\n",
    "plt.show()"
   ]
  },
  {
   "cell_type": "code",
   "execution_count": 76,
   "metadata": {},
   "outputs": [
    {
     "name": "stdout",
     "output_type": "stream",
     "text": [
      "1/1 [==============================] - 0s 64ms/step\n"
     ]
    },
    {
     "data": {
      "text/plain": [
       "array([[123.32991]], dtype=float32)"
      ]
     },
     "execution_count": 76,
     "metadata": {},
     "output_type": "execute_result"
    }
   ],
   "source": [
    "# New smaple data for prediction \n",
    "\n",
    "\n",
    "''' If MSE > INT_MAX , use Scaling to transform the data '''\n",
    "X1 = np.array([ 90 , 110 , 130 ])\n",
    "mu = X1.mean() \n",
    "std_ = X1.std()\n",
    "\n",
    "X1 = ( X1 - mu ) /  std_\n",
    "X1 = X1.reshape( (1 , 3 , 1 ) )\n",
    "X1\n",
    "\n",
    "num = ts_model.predict(X1 ) \n",
    "num = num*std_ + mu \n",
    "num"
   ]
  },
  {
   "cell_type": "code",
   "execution_count": null,
   "metadata": {},
   "outputs": [],
   "source": []
  }
 ],
 "metadata": {
  "kernelspec": {
   "display_name": "Python 3",
   "language": "python",
   "name": "python3"
  },
  "language_info": {
   "codemirror_mode": {
    "name": "ipython",
    "version": 3
   },
   "file_extension": ".py",
   "mimetype": "text/x-python",
   "name": "python",
   "nbconvert_exporter": "python",
   "pygments_lexer": "ipython3",
   "version": "3.8.2"
  }
 },
 "nbformat": 4,
 "nbformat_minor": 2
}
