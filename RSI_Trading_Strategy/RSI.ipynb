{
 "cells": [
  {
   "cell_type": "code",
   "execution_count": 1,
   "metadata": {},
   "outputs": [],
   "source": [
    "import numpy as np \n",
    "import pandas as pd \n",
    "import matplotlib.pyplot as plt \n",
    "import math \n",
    "from sympy import * \n"
   ]
  },
  {
   "cell_type": "code",
   "execution_count": 40,
   "metadata": {},
   "outputs": [],
   "source": [
    "from tensorflow import keras "
   ]
  },
  {
   "cell_type": "code",
   "execution_count": 2,
   "metadata": {},
   "outputs": [
    {
     "data": {
      "text/plain": [
       "\"' \\nRSI - (Relative Strength Index) - Technical Indicator in Trading used to find if the trend observed in previous days \\nwill continue or NOT . \\n\\n\\n[RSI = 100 - 100/1+RS ] where RS (relative Strength_ ) = Avg Gain/ Avg Loss over past some days (g/L calcualted wrt prev Days CLosing Price )\\n\\nif ( 0 < RSI < 30 ) , oversold and price was decreasing till NOW  and now increase so buy it (LONG POSITIOn)\\nand vice versa for ( 70 < RSI < 100 ) -> SHORT (sell it)\\n\\n\""
      ]
     },
     "execution_count": 2,
     "metadata": {},
     "output_type": "execute_result"
    }
   ],
   "source": [
    "'''' \n",
    "RSI - (Relative Strength Index) - Technical Indicator in Trading used to find if the trend observed in previous days \n",
    "will continue or NOT . \n",
    "\n",
    "\n",
    "[RSI = 100 - 100/1+RS ] where RS (relative Strength_ ) = Avg Gain/ Avg Loss over past some days (g/L calcualted wrt prev Days CLosing Price )\n",
    "\n",
    "if ( 0 < RSI < 30 ) , oversold and price was decreasing till NOW  and now increase so buy it (LONG POSITIOn)\n",
    "and vice versa for ( 70 < RSI < 100 ) -> SHORT (sell it)\n",
    "\n",
    "'''"
   ]
  },
  {
   "cell_type": "code",
   "execution_count": 3,
   "metadata": {},
   "outputs": [
    {
     "name": "stderr",
     "output_type": "stream",
     "text": [
      "[*********************100%%**********************]  1 of 1 completed\n"
     ]
    }
   ],
   "source": [
    "# COde the RSI \n",
    "\n",
    "import yfinance as yf  # for historical stock martket data \n",
    "\n",
    "data = yf.download('SPY')"
   ]
  },
  {
   "cell_type": "code",
   "execution_count": 4,
   "metadata": {},
   "outputs": [
    {
     "data": {
      "text/html": [
       "<div>\n",
       "<style scoped>\n",
       "    .dataframe tbody tr th:only-of-type {\n",
       "        vertical-align: middle;\n",
       "    }\n",
       "\n",
       "    .dataframe tbody tr th {\n",
       "        vertical-align: top;\n",
       "    }\n",
       "\n",
       "    .dataframe thead th {\n",
       "        text-align: right;\n",
       "    }\n",
       "</style>\n",
       "<table border=\"1\" class=\"dataframe\">\n",
       "  <thead>\n",
       "    <tr style=\"text-align: right;\">\n",
       "      <th></th>\n",
       "      <th>Open</th>\n",
       "      <th>High</th>\n",
       "      <th>Low</th>\n",
       "      <th>Close</th>\n",
       "      <th>Adj Close</th>\n",
       "      <th>Volume</th>\n",
       "    </tr>\n",
       "    <tr>\n",
       "      <th>Date</th>\n",
       "      <th></th>\n",
       "      <th></th>\n",
       "      <th></th>\n",
       "      <th></th>\n",
       "      <th></th>\n",
       "      <th></th>\n",
       "    </tr>\n",
       "  </thead>\n",
       "  <tbody>\n",
       "    <tr>\n",
       "      <th>1993-01-29</th>\n",
       "      <td>43.96875</td>\n",
       "      <td>43.96875</td>\n",
       "      <td>43.75000</td>\n",
       "      <td>43.93750</td>\n",
       "      <td>24.684090</td>\n",
       "      <td>1003200</td>\n",
       "    </tr>\n",
       "    <tr>\n",
       "      <th>1993-02-01</th>\n",
       "      <td>43.96875</td>\n",
       "      <td>44.25000</td>\n",
       "      <td>43.96875</td>\n",
       "      <td>44.25000</td>\n",
       "      <td>24.859673</td>\n",
       "      <td>480500</td>\n",
       "    </tr>\n",
       "    <tr>\n",
       "      <th>1993-02-02</th>\n",
       "      <td>44.21875</td>\n",
       "      <td>44.37500</td>\n",
       "      <td>44.12500</td>\n",
       "      <td>44.34375</td>\n",
       "      <td>24.912336</td>\n",
       "      <td>201300</td>\n",
       "    </tr>\n",
       "    <tr>\n",
       "      <th>1993-02-03</th>\n",
       "      <td>44.40625</td>\n",
       "      <td>44.84375</td>\n",
       "      <td>44.37500</td>\n",
       "      <td>44.81250</td>\n",
       "      <td>25.175680</td>\n",
       "      <td>529400</td>\n",
       "    </tr>\n",
       "    <tr>\n",
       "      <th>1993-02-04</th>\n",
       "      <td>44.96875</td>\n",
       "      <td>45.09375</td>\n",
       "      <td>44.46875</td>\n",
       "      <td>45.00000</td>\n",
       "      <td>25.281029</td>\n",
       "      <td>531500</td>\n",
       "    </tr>\n",
       "  </tbody>\n",
       "</table>\n",
       "</div>"
      ],
      "text/plain": [
       "                Open      High       Low     Close  Adj Close   Volume\n",
       "Date                                                                  \n",
       "1993-01-29  43.96875  43.96875  43.75000  43.93750  24.684090  1003200\n",
       "1993-02-01  43.96875  44.25000  43.96875  44.25000  24.859673   480500\n",
       "1993-02-02  44.21875  44.37500  44.12500  44.34375  24.912336   201300\n",
       "1993-02-03  44.40625  44.84375  44.37500  44.81250  25.175680   529400\n",
       "1993-02-04  44.96875  45.09375  44.46875  45.00000  25.281029   531500"
      ]
     },
     "execution_count": 4,
     "metadata": {},
     "output_type": "execute_result"
    }
   ],
   "source": [
    "data.head()"
   ]
  },
  {
   "cell_type": "code",
   "execution_count": 5,
   "metadata": {},
   "outputs": [],
   "source": [
    "import pandas_ta as ta "
   ]
  },
  {
   "cell_type": "code",
   "execution_count": 6,
   "metadata": {},
   "outputs": [
    {
     "data": {
      "text/plain": [
       "\"  \\n\\nCl;osing Price (CLose) - The price at which the last stock is traded in the day . \\n\\nAdjusted CLosing Price  - It is the last price at which a stock , dividends and all other type of assets are traded in the same day. \\n\\nAdj Closing Price - keep s happenng after close \\nand is more clear indicator of stock market's  health . \\n\\n\""
      ]
     },
     "execution_count": 6,
     "metadata": {},
     "output_type": "execute_result"
    }
   ],
   "source": [
    "'''  \n",
    "\n",
    "Cl;osing Price (CLose) - The price at which the last stock is traded in the day . \n",
    "\n",
    "Adjusted CLosing Price  - It is the last price at which a stock , dividends and all other type of assets are traded in the same day. \n",
    "\n",
    "Adj Closing Price - keep s happenng after close \n",
    "and is more clear indicator of stock market's  health . \n",
    "\n",
    "'''"
   ]
  },
  {
   "cell_type": "code",
   "execution_count": 7,
   "metadata": {},
   "outputs": [],
   "source": [
    "# import pandas_ta as ta \n",
    "\n",
    "# data['rsi'] = ta.rsi(data['Adj Close'] , 2 )"
   ]
  },
  {
   "cell_type": "code",
   "execution_count": 8,
   "metadata": {},
   "outputs": [
    {
     "data": {
      "text/plain": [
       "' # function to calculate RSI Prices (for each day ) \\n\\n# df.diff() -> return difference b/w all the rows and its just previous row (if period==1 )\\n# .ewm(com ) -> finds exponential moving average ( weighted sum of the data by giving more weight to more recent obs. abnd less weight toolder observ.)\\n\\n\\n'"
      ]
     },
     "execution_count": 8,
     "metadata": {},
     "output_type": "execute_result"
    }
   ],
   "source": [
    "''' # function to calculate RSI Prices (for each day ) \n",
    "\n",
    "# df.diff() -> return difference b/w all the rows and its just previous row (if period==1 )\n",
    "# .ewm(com ) -> finds exponential moving average ( weighted sum of the data by giving more weight to more recent obs. abnd less weight toolder observ.)\n",
    "\n",
    "\n",
    "'''"
   ]
  },
  {
   "cell_type": "code",
   "execution_count": 9,
   "metadata": {},
   "outputs": [],
   "source": [
    "\n",
    "# work for every row (dat) of today's close price\n",
    "\n",
    "def calculate_rsi(prices , period) :\n",
    "\n",
    "    momentum = prices.diff() # shows the change in price over a day wrt prev day's adj close price \n",
    "    gain = abs (momentum.where (momentum  > 0 , 0 ) )\n",
    "    loss = abs ( momentum.where(momentum < 0 , 0 ) )\n",
    "    \n",
    "    avg_gain = gain.ewm(com=period - 1, min_periods=period).mean()  # exponential movbving AVERAGE \n",
    "    avg_loss = loss.ewm(com=period - 1, min_periods=period).mean() \n",
    "\n",
    "    rs = avg_gain/ avg_loss\n",
    "\n",
    "    rsi = 100 - (100 / (1 + rs ))\n",
    "\n",
    "    return rsi "
   ]
  },
  {
   "cell_type": "code",
   "execution_count": 10,
   "metadata": {},
   "outputs": [],
   "source": [
    "def generate_signals(rsi_list) :\n",
    "\n",
    "    signals = [] \n",
    "\n",
    "    for rsi in rsi_list :\n",
    "\n",
    "        if rsi < 30 :\n",
    "            signals.append('BUY') \n",
    "        elif rsi > 70 :\n",
    "            signals.append('SELL')\n",
    "        else :\n",
    "            signals.append('HOLD')\n",
    "        \n",
    "    return signals "
   ]
  },
  {
   "cell_type": "code",
   "execution_count": 11,
   "metadata": {},
   "outputs": [],
   "source": [
    "rsi_list = calculate_rsi(data['Adj Close'] , 14 )"
   ]
  },
  {
   "cell_type": "code",
   "execution_count": 12,
   "metadata": {},
   "outputs": [],
   "source": [
    "data['RSI'] = rsi_list"
   ]
  },
  {
   "cell_type": "code",
   "execution_count": 13,
   "metadata": {},
   "outputs": [],
   "source": [
    "data['Signals'] = generate_signals(rsi_list)"
   ]
  },
  {
   "cell_type": "code",
   "execution_count": 14,
   "metadata": {},
   "outputs": [
    {
     "data": {
      "text/plain": [
       "Signals\n",
       "HOLD    7133\n",
       "SELL     662\n",
       "BUY      112\n",
       "Name: count, dtype: int64"
      ]
     },
     "execution_count": 14,
     "metadata": {},
     "output_type": "execute_result"
    }
   ],
   "source": [
    "data['Signals'].value_counts()"
   ]
  },
  {
   "cell_type": "code",
   "execution_count": 15,
   "metadata": {},
   "outputs": [
    {
     "name": "stdout",
     "output_type": "stream",
     "text": [
      "1.00000000499950  =  1.00000000499950\n"
     ]
    }
   ],
   "source": [
    "# Newton Raphson's Method of Apptoximation \n",
    "# New approx ->   x(n+1)  = x(n) - f(xn)/f'(xn) \n",
    "\n",
    "\n",
    "\n",
    "# for complex functions root -> slike sin(x_ + cos3(x) )\n",
    "def Newton_Raphon_Approx( eqn,  initial_guess ) :\n",
    "    x_n = initial_guess \n",
    "\n",
    "    x = symbols('x')\n",
    "    eqn_d_x = Derivative( eqn , x).doit() # to simplify the expression  \n",
    "\n",
    "    x_n_1 = x_n - eqn.subs(x , x_n)/eqn_d_x.subs(x , x_n) # eqn.subs - sunstitutes  x in x_n\n",
    "\n",
    "    while abs(x_n_1 - x_n) >= 0.0000004 : \n",
    "        temp = x_n_1 \n",
    "        x_n_1 = x_n - eqn.subs(x , x_n)/eqn_d_x.subs(x , x_n)\n",
    "        x_n =temp \n",
    "\n",
    "    return x_n_1 \n",
    "\n",
    "\n",
    "\n",
    "x = symbols('x')\n",
    "\n",
    "# USe Sympy to write compelx expression / eqn \n",
    "res = Newton_Raphon_Approx( x**2 -1  ,  1.0001)\n",
    "\n",
    "\n",
    "print( res , \" = \" , res.evalf())"
   ]
  }
 ],
 "metadata": {
  "kernelspec": {
   "display_name": "Python 3",
   "language": "python",
   "name": "python3"
  },
  "language_info": {
   "codemirror_mode": {
    "name": "ipython",
    "version": 3
   },
   "file_extension": ".py",
   "mimetype": "text/x-python",
   "name": "python",
   "nbconvert_exporter": "python",
   "pygments_lexer": "ipython3",
   "version": "3.8.2"
  }
 },
 "nbformat": 4,
 "nbformat_minor": 2
}
