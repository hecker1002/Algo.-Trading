{
 "cells": [
  {
   "cell_type": "code",
   "execution_count": 36,
   "metadata": {},
   "outputs": [],
   "source": [
    "import numpy as np \n",
    "import pandas as pd \n",
    "import matplotlib.pyplot as plt \n"
   ]
  },
  {
   "cell_type": "code",
   "execution_count": 37,
   "metadata": {},
   "outputs": [
    {
     "data": {
      "text/plain": [
       "\"' \\nRSI - (Relative Strength Index) - Technical Indicator in Trading used to find if the trend observed in previous days \\nwill continue or NOT . \\n\\n\\n[RSI = 100 - 100/1+RS ] where RS (relative Strength_ ) = Avg Gain/ Avg Loss over past some days (g/L calcualted wrt prev Days CLosing Price )\\n\\nif ( 0 < RSI < 30 ) , oversold and price was decreasing till NOW  and now increase so buy it (LONG POSITIOn)\\nand vice versa for ( 70 < RSI < 100 ) -> SHORT (sell it)\\n\\n\""
      ]
     },
     "execution_count": 37,
     "metadata": {},
     "output_type": "execute_result"
    }
   ],
   "source": [
    "'''' \n",
    "RSI - (Relative Strength Index) - Technical Indicator in Trading used to find if the trend observed in previous days \n",
    "will continue or NOT . \n",
    "\n",
    "\n",
    "[RSI = 100 - 100/1+RS ] where RS (relative Strength_ ) = Avg Gain/ Avg Loss over past some days (g/L calcualted wrt prev Days CLosing Price )\n",
    "\n",
    "if ( 0 < RSI < 30 ) , oversold and price was decreasing till NOW  and now increase so buy it (LONG POSITIOn)\n",
    "and vice versa for ( 70 < RSI < 100 ) -> SHORT (sell it)\n",
    "\n",
    "'''"
   ]
  },
  {
   "cell_type": "code",
   "execution_count": 38,
   "metadata": {},
   "outputs": [
    {
     "name": "stderr",
     "output_type": "stream",
     "text": [
      "[*********************100%%**********************]  1 of 1 completed\n"
     ]
    }
   ],
   "source": [
    "# COde the RSI \n",
    "\n",
    "import yfinance as yf  # for historical stock martket data \n",
    "\n",
    "data = yf.download('SPY')"
   ]
  },
  {
   "cell_type": "code",
   "execution_count": 39,
   "metadata": {},
   "outputs": [
    {
     "data": {
      "text/html": [
       "<div>\n",
       "<style scoped>\n",
       "    .dataframe tbody tr th:only-of-type {\n",
       "        vertical-align: middle;\n",
       "    }\n",
       "\n",
       "    .dataframe tbody tr th {\n",
       "        vertical-align: top;\n",
       "    }\n",
       "\n",
       "    .dataframe thead th {\n",
       "        text-align: right;\n",
       "    }\n",
       "</style>\n",
       "<table border=\"1\" class=\"dataframe\">\n",
       "  <thead>\n",
       "    <tr style=\"text-align: right;\">\n",
       "      <th></th>\n",
       "      <th>Open</th>\n",
       "      <th>High</th>\n",
       "      <th>Low</th>\n",
       "      <th>Close</th>\n",
       "      <th>Adj Close</th>\n",
       "      <th>Volume</th>\n",
       "    </tr>\n",
       "    <tr>\n",
       "      <th>Date</th>\n",
       "      <th></th>\n",
       "      <th></th>\n",
       "      <th></th>\n",
       "      <th></th>\n",
       "      <th></th>\n",
       "      <th></th>\n",
       "    </tr>\n",
       "  </thead>\n",
       "  <tbody>\n",
       "    <tr>\n",
       "      <th>1993-01-29</th>\n",
       "      <td>43.96875</td>\n",
       "      <td>43.96875</td>\n",
       "      <td>43.75000</td>\n",
       "      <td>43.93750</td>\n",
       "      <td>24.840677</td>\n",
       "      <td>1003200</td>\n",
       "    </tr>\n",
       "    <tr>\n",
       "      <th>1993-02-01</th>\n",
       "      <td>43.96875</td>\n",
       "      <td>44.25000</td>\n",
       "      <td>43.96875</td>\n",
       "      <td>44.25000</td>\n",
       "      <td>25.017357</td>\n",
       "      <td>480500</td>\n",
       "    </tr>\n",
       "    <tr>\n",
       "      <th>1993-02-02</th>\n",
       "      <td>44.21875</td>\n",
       "      <td>44.37500</td>\n",
       "      <td>44.12500</td>\n",
       "      <td>44.34375</td>\n",
       "      <td>25.070358</td>\n",
       "      <td>201300</td>\n",
       "    </tr>\n",
       "    <tr>\n",
       "      <th>1993-02-03</th>\n",
       "      <td>44.40625</td>\n",
       "      <td>44.84375</td>\n",
       "      <td>44.37500</td>\n",
       "      <td>44.81250</td>\n",
       "      <td>25.335365</td>\n",
       "      <td>529400</td>\n",
       "    </tr>\n",
       "    <tr>\n",
       "      <th>1993-02-04</th>\n",
       "      <td>44.96875</td>\n",
       "      <td>45.09375</td>\n",
       "      <td>44.46875</td>\n",
       "      <td>45.00000</td>\n",
       "      <td>25.441378</td>\n",
       "      <td>531500</td>\n",
       "    </tr>\n",
       "  </tbody>\n",
       "</table>\n",
       "</div>"
      ],
      "text/plain": [
       "                Open      High       Low     Close  Adj Close   Volume\n",
       "Date                                                                  \n",
       "1993-01-29  43.96875  43.96875  43.75000  43.93750  24.840677  1003200\n",
       "1993-02-01  43.96875  44.25000  43.96875  44.25000  25.017357   480500\n",
       "1993-02-02  44.21875  44.37500  44.12500  44.34375  25.070358   201300\n",
       "1993-02-03  44.40625  44.84375  44.37500  44.81250  25.335365   529400\n",
       "1993-02-04  44.96875  45.09375  44.46875  45.00000  25.441378   531500"
      ]
     },
     "execution_count": 39,
     "metadata": {},
     "output_type": "execute_result"
    }
   ],
   "source": [
    "data.head()"
   ]
  },
  {
   "cell_type": "code",
   "execution_count": 40,
   "metadata": {},
   "outputs": [],
   "source": [
    "import pandas_ta as ta "
   ]
  },
  {
   "cell_type": "code",
   "execution_count": 41,
   "metadata": {},
   "outputs": [
    {
     "data": {
      "text/plain": [
       "\"  \\n\\nCl;osing Price (CLose) - The price at which the last stock is traded in the day . \\n\\nAdjusted CLosing Price  - It is the last price at which a stock , dividends and all other type of assets are traded in the same day. \\n\\nAdj Closing Price - keep s happenng after close \\nand is more clear indicator of stock market's  health . \\n\\n\""
      ]
     },
     "execution_count": 41,
     "metadata": {},
     "output_type": "execute_result"
    }
   ],
   "source": [
    "'''  \n",
    "\n",
    "Cl;osing Price (CLose) - The price at which the last stock is traded in the day . \n",
    "\n",
    "Adjusted CLosing Price  - It is the last price at which a stock , dividends and all other type of assets are traded in the same day. \n",
    "\n",
    "Adj Closing Price - keep s happenng after close \n",
    "and is more clear indicator of stock market's  health . \n",
    "\n",
    "'''"
   ]
  },
  {
   "cell_type": "code",
   "execution_count": 42,
   "metadata": {},
   "outputs": [],
   "source": [
    "# import pandas_ta as ta \n",
    "\n",
    "# data['rsi'] = ta.rsi(data['Adj Close'] , 2 )"
   ]
  },
  {
   "cell_type": "code",
   "execution_count": 43,
   "metadata": {},
   "outputs": [
    {
     "data": {
      "text/plain": [
       "' # function to calculate RSI Prices (for each day ) \\n\\n# df.diff() -> return difference b/w all the rows and its just previous row (if period==1 )\\n# .ewm(com ) -> finds exponential moving average ( weighted sum of the data by giving more weight to more recent obs. abnd less weight toolder observ.)\\n\\n\\n'"
      ]
     },
     "execution_count": 43,
     "metadata": {},
     "output_type": "execute_result"
    }
   ],
   "source": [
    "''' # function to calculate RSI Prices (for each day ) \n",
    "\n",
    "# df.diff() -> return difference b/w all the rows and its just previous row (if period==1 )\n",
    "# .ewm(com ) -> finds exponential moving average ( weighted sum of the data by giving more weight to more recent obs. abnd less weight toolder observ.)\n",
    "\n",
    "\n",
    "'''"
   ]
  },
  {
   "cell_type": "code",
   "execution_count": 44,
   "metadata": {},
   "outputs": [],
   "source": [
    "\n",
    "# work for every row (dat) of today's close price\n",
    "\n",
    "def calculate_rsi(prices , period) :\n",
    "\n",
    "    momentum = prices.diff() # shows the change in price over a day wrt prev day's adj close price \n",
    "    gain = abs (momentum.where (momentum  > 0 , 0 ) )\n",
    "    loss = abs ( momentum.where(momentum < 0 , 0 ) )\n",
    "    \n",
    "    avg_gain = gain.ewm(com=period - 1, min_periods=period).mean()  # mexponential movbving AVERAGE \n",
    "    avg_loss = loss.ewm(com=period - 1, min_periods=period).mean() \n",
    "\n",
    "    rs = avg_gain/ avg_loss\n",
    "\n",
    "    rsi = 100 - (100 / (1 + rs ))\n",
    "\n",
    "    return rsi "
   ]
  },
  {
   "cell_type": "code",
   "execution_count": 49,
   "metadata": {},
   "outputs": [],
   "source": [
    "def generate_signals(rsi_list) :\n",
    "\n",
    "    signals = [] \n",
    "\n",
    "    for rsi in rsi_list :\n",
    "\n",
    "        if rsi < 30 :\n",
    "            signals.append('BUY') \n",
    "        elif rsi > 70 :\n",
    "            signals.append('SELL')\n",
    "        else :\n",
    "            signals.append('HOLD')\n",
    "        \n",
    "    return signals "
   ]
  },
  {
   "cell_type": "code",
   "execution_count": 50,
   "metadata": {},
   "outputs": [],
   "source": [
    "rsi_list = calculate_rsi(data['Adj Close'] , 14 )"
   ]
  },
  {
   "cell_type": "code",
   "execution_count": 51,
   "metadata": {},
   "outputs": [],
   "source": [
    "data['RSI'] = rsi_list"
   ]
  },
  {
   "cell_type": "code",
   "execution_count": 52,
   "metadata": {},
   "outputs": [],
   "source": [
    "data['Signals'] = generate_signals(rsi_list)"
   ]
  },
  {
   "cell_type": "code",
   "execution_count": 59,
   "metadata": {},
   "outputs": [
    {
     "data": {
      "text/plain": [
       "Signals\n",
       "HOLD    7066\n",
       "SELL     652\n",
       "BUY      112\n",
       "Name: count, dtype: int64"
      ]
     },
     "execution_count": 59,
     "metadata": {},
     "output_type": "execute_result"
    }
   ],
   "source": [
    "data['Signals'].value_counts()"
   ]
  },
  {
   "cell_type": "code",
   "execution_count": null,
   "metadata": {},
   "outputs": [],
   "source": []
  }
 ],
 "metadata": {
  "kernelspec": {
   "display_name": "Python 3",
   "language": "python",
   "name": "python3"
  },
  "language_info": {
   "codemirror_mode": {
    "name": "ipython",
    "version": 3
   },
   "file_extension": ".py",
   "mimetype": "text/x-python",
   "name": "python",
   "nbconvert_exporter": "python",
   "pygments_lexer": "ipython3",
   "version": "3.8.2"
  }
 },
 "nbformat": 4,
 "nbformat_minor": 2
}
